{
 "cells": [
  {
   "attachments": {},
   "cell_type": "markdown",
   "metadata": {},
   "source": [
    "# AGE CSV Support"
   ]
  },
  {
   "cell_type": "code",
   "execution_count": 5,
   "metadata": {},
   "outputs": [],
   "source": [
    "import age \n",
    "import psycopg2\n",
    "from age.age_csv import *\n",
    "import random\n",
    "\n",
    "conn = psycopg2.connect(\n",
    "    host=\"localhost\",\n",
    "    port=\"5430\",\n",
    "    dbname=\"postgresDB\",\n",
    "    user=\"postgresUser\",\n",
    "    password=\"postgresPW\")\n",
    "GRAPH_NAME = 'bitnine_global_inic'\n"
   ]
  },
  {
   "attachments": {},
   "cell_type": "markdown",
   "metadata": {},
   "source": [
    "### Create a Random GRAPH with 2000 nodes and 4000 edges in AGE"
   ]
  },
  {
   "cell_type": "code",
   "execution_count": 6,
   "metadata": {},
   "outputs": [
    {
     "name": "stdout",
     "output_type": "stream",
     "text": [
      "2000 nodes created\n",
      "2000 edges created\n"
     ]
    }
   ],
   "source": [
    "number_of_nodes = 2000\n",
    "number_of_edges = 2000\n",
    "\n",
    "age.setUpAge(conn, GRAPH_NAME)\n",
    "age.deleteGraph(conn, GRAPH_NAME)\n",
    "age.setUpAge(conn, GRAPH_NAME)\n",
    "\n",
    "\n",
    "try:\n",
    "    query = \"\"\n",
    "    for i in range(number_of_nodes):\n",
    "        query += \"\"\"\n",
    "        SELECT * from cypher('%s', $$ CREATE (n:Person {id : '%s'} ) $$) as (v agtype); \"\"\" % (GRAPH_NAME, str(i))\n",
    "        \n",
    "    with conn.cursor() as cursor:\n",
    "        cursor.execute(query)\n",
    "        query=\"\"\n",
    "        conn.commit()\n",
    "    \n",
    "    for i in range(number_of_edges):\n",
    "        a = 0\n",
    "        b = 0\n",
    "        while(a==b):\n",
    "            a = random_number = random.randint(0, number_of_nodes-1)\n",
    "            b = random_number = random.randint(0, number_of_nodes-1)\n",
    "        \n",
    "        query += \"\"\"\n",
    "        SELECT * from cypher('%s', \n",
    "        $$ \n",
    "            MATCH (a:Person {id: '%s'}), (b:Person {id: '%s'}) \n",
    "            CREATE (a)-[r:workWith ]->(b)\n",
    "        $$) as (v agtype); \"\"\" % (GRAPH_NAME,str(a), str(b))\n",
    "\n",
    "    with conn.cursor() as cursor:\n",
    "        cursor.execute(query)\n",
    "        conn.commit()\n",
    "        \n",
    "        cursor.execute(\"\"\"\n",
    "        SELECT count(*) from cypher( '%s', $$ MATCH (n) RETURN n$$) as (n agtype);\n",
    "        \"\"\" % (GRAPH_NAME))\n",
    "        for row in cursor: print(row[0] , \"nodes created\")\n",
    "        cursor.execute(\"\"\"\n",
    "        SELECT count(*) from cypher( '%s', $$ MATCH p=(a )-[b]->(c) RETURN p $$) as (n agtype);\n",
    "        \"\"\" % (GRAPH_NAME))\n",
    "        for row in cursor: print(row[0] , \"edges created\")\n",
    "except Exception as e:\n",
    "    print(e)\n"
   ]
  },
  {
   "attachments": {},
   "cell_type": "markdown",
   "metadata": {},
   "source": [
    "### Save to csv\n",
    "- Change the `conn` and `GRAPH_NAME` according to your age configuration"
   ]
  },
  {
   "cell_type": "code",
   "execution_count": 7,
   "metadata": {},
   "outputs": [
    {
     "name": "stdout",
     "output_type": "stream",
     "text": [
      "Created a directory\n",
      "Directory name : bitnine_global_inic_data\n",
      "Directory path : /home/moontasir/Desktop/networkx/age/drivers/python/samples/bitnine_global_inic_data\n"
     ]
    }
   ],
   "source": [
    "import os\n",
    "# print(os.getcwd())\n",
    "save_csv(connection=conn,\n",
    "         GRAPH_NAME=GRAPH_NAME, directory= os.getcwd())"
   ]
  },
  {
   "attachments": {},
   "cell_type": "markdown",
   "metadata": {},
   "source": [
    "### LOAD from csv\n",
    "- Change the `conn` according to your age configuration\n",
    "- Give `GRAPH_NAME` where you want to load\n",
    "- Give `directory` where you have stored the csv file\n",
    "- You must follow the naming rules for generating nodes and edges\n",
    "- Vertices file name format : `label_name.csv`\n",
    "- Edges file name format : `edge_label_name.csv`\n",
    "- Example:\n",
    "    - Creating nodes with label People : `People.csv`\n",
    "    - Creating edges with label Purchase : `edge_Purchase.csv`"
   ]
  },
  {
   "cell_type": "code",
   "execution_count": 8,
   "metadata": {},
   "outputs": [
    {
     "name": "stdout",
     "output_type": "stream",
     "text": [
      "-------------------------------------------\n",
      "Checking file...\n",
      "-------------------------------------------\n",
      "2 files are ok\n",
      "Found vertices file : 1\n",
      "Found edge file : 1 \n",
      "-------------------------------------------\n",
      "Loaded 1000 vertices with label : Person within 1.361075067999991 s\n",
      "Loaded 2000 vertices with label : Person within 2.68238522700085 s\n",
      "Loaded 1000 edges with label : workWith within 10.059133271000974 s\n",
      "Loaded 2000 edges with label : workWith within 17.566719402000672 s\n"
     ]
    }
   ],
   "source": [
    "age.setUpAge(conn, GRAPH_NAME)\n",
    "age.deleteGraph(conn, GRAPH_NAME)\n",
    "age.setUpAge(conn, GRAPH_NAME)\n",
    "data = load_csv(connection=conn,\n",
    "                GRAPH_NAME=GRAPH_NAME,\n",
    "                # directory=os.path.join(os.path.dirname(__file__), 'data')\n",
    "                directory=\"./bitnine_global_inic_data\"\n",
    "                )"
   ]
  }
 ],
 "metadata": {
  "kernelspec": {
   "display_name": "myenv",
   "language": "python",
   "name": "python3"
  },
  "language_info": {
   "codemirror_mode": {
    "name": "ipython",
    "version": 3
   },
   "file_extension": ".py",
   "mimetype": "text/x-python",
   "name": "python",
   "nbconvert_exporter": "python",
   "pygments_lexer": "ipython3",
   "version": "3.10.6"
  },
  "orig_nbformat": 4
 },
 "nbformat": 4,
 "nbformat_minor": 2
}
