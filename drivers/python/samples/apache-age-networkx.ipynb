{
 "cells": [
  {
   "attachments": {},
   "cell_type": "markdown",
   "metadata": {},
   "source": [
    "### Networkx To Age"
   ]
  },
  {
   "cell_type": "code",
   "execution_count": 1,
   "metadata": {},
   "outputs": [],
   "source": [
    "import psycopg2\n",
    "from age.networkx import *\n",
    "\n",
    "conn = psycopg2.connect(\n",
    "    host=\"localhost\",\n",
    "    port=\"5430\",\n",
    "    dbname=\"postgresDB\",\n",
    "    user=\"postgresUser\",\n",
    "    password=\"postgresPW\")\n",
    "graphName = 'bitnine_global_inic'\n",
    "\n",
    "age.setUpAge(conn, graphName)\n",
    "age.deleteGraph(conn,graphName)\n",
    "age.setUpAge(conn, graphName)"
   ]
  },
  {
   "cell_type": "code",
   "execution_count": 2,
   "metadata": {},
   "outputs": [],
   "source": [
    "import random\n",
    "\n",
    "num_nodes = 10000\n",
    "num_edges = 50000\n",
    "G = nx.DiGraph()\n",
    "try:\n",
    "    for i in range(num_nodes):\n",
    "        G.add_node(i, label='Number')    \n",
    "    for i in range(num_edges):\n",
    "        source = random.randint(0, num_nodes-1)\n",
    "        target = random.randint(0, num_nodes-1)\n",
    "        G.add_edge(source, target, label='Connection')\n",
    "except Exception as e:\n",
    "    raise e"
   ]
  },
  {
   "cell_type": "code",
   "execution_count": 3,
   "metadata": {},
   "outputs": [],
   "source": [
    "networkx_to_age(conn, G, graphName)"
   ]
  },
  {
   "attachments": {},
   "cell_type": "markdown",
   "metadata": {},
   "source": [
    "### AGE to Networkx"
   ]
  },
  {
   "cell_type": "code",
   "execution_count": 4,
   "metadata": {},
   "outputs": [],
   "source": [
    "age.setUpAge(conn, graphName)\n",
    "age.deleteGraph(conn,graphName)\n",
    "age.setUpAge(conn, graphName)\n",
    "\n",
    "with conn.cursor() as cursor:\n",
    "    cursor.execute(\"\"\"\n",
    "    SELECT * from cypher('%s', $$\n",
    "    CREATE \n",
    "    (:User {id: 'user1'}),\n",
    "    (:User {id: 'user2'}),\n",
    "    (:Movie {id: 'movie1', name: 'The Shawshank Redemption'}),\n",
    "    (:Movie {id: 'movie2', name: 'The Godfather'}),\n",
    "    (:Movie {id: 'movie3', name: 'The Dark Knight'}),\n",
    "    (:Movie {id: 'movie4', name: 'Army of Thieves'}),\n",
    "    (:Movie {id: 'movie5', name: 'Oceans Thirteen'}),\n",
    "    (:Movie {id: 'movie6', name: 'Heat'}),\n",
    "    (:Genre {name: 'Drama'}),\n",
    "    (:Genre {name: 'Crime'}),\n",
    "    (:Genre {name: 'Action'})\n",
    "    $$) as (V agtype);\n",
    "    \"\"\" % (graphName))\n",
    "    conn.commit()\n",
    "\n",
    "with conn.cursor() as cursor:\n",
    "    cursor.execute(\"\"\"\n",
    "    SELECT * from cypher('%s', $$\n",
    "    MATCH \n",
    "    (u1:User {id: 'user1'}), \n",
    "    (u2:User {id: 'user2'}), \n",
    "    (m1:Movie {id: 'movie1'}),\n",
    "    (m2:Movie {id: 'movie2'}),\n",
    "    (m3:Movie {id: 'movie3'}),\n",
    "    (m4:Movie {id: 'movie4'}),\n",
    "    (m5:Movie {id: 'movie5'}),\n",
    "    (m6:Movie {id: 'movie6'}),\n",
    "    (gD:Genre {name: 'Drama'}),\n",
    "    (gC:Genre {name: 'Crime'}),\n",
    "    (gA:Genre {name: 'Action'})\n",
    "    CREATE \n",
    "    (u1)-[:WATCHED]->(m1),\n",
    "    (u1)-[:WATCHED]->(m2),\n",
    "    (u2)-[:WATCHED]->(m1),\n",
    "    (m1)-[:BELONGS_TO]->(gD),\n",
    "    (m2)-[:BELONGS_TO]->(gC),\n",
    "    (m3)-[:BELONGS_TO]->(gA),\n",
    "    (m4)-[:BELONGS_TO]->(gD),\n",
    "    (m5)-[:BELONGS_TO]->(gC),\n",
    "    (m6)-[:BELONGS_TO]->(gA)\n",
    "    $$) as (V agtype);\n",
    "    \"\"\" % (graphName))\n",
    "    conn.commit()\n"
   ]
  },
  {
   "cell_type": "code",
   "execution_count": 5,
   "metadata": {},
   "outputs": [
    {
     "name": "stdout",
     "output_type": "stream",
     "text": [
      "Found 11 nodes and 9 edges\n"
     ]
    }
   ],
   "source": [
    "G = age_to_networkx(conn, graphName)"
   ]
  }
 ],
 "metadata": {
  "kernelspec": {
   "display_name": "myenv",
   "language": "python",
   "name": "python3"
  },
  "language_info": {
   "codemirror_mode": {
    "name": "ipython",
    "version": 3
   },
   "file_extension": ".py",
   "mimetype": "text/x-python",
   "name": "python",
   "nbconvert_exporter": "python",
   "pygments_lexer": "ipython3",
   "version": "3.10.6"
  },
  "orig_nbformat": 4
 },
 "nbformat": 4,
 "nbformat_minor": 2
}
