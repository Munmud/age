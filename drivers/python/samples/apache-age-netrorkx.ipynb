{
 "cells": [
  {
   "attachments": {},
   "cell_type": "markdown",
   "metadata": {},
   "source": [
    "Converting between NetworkX and Apache AGE (GraphDB) involves transforming the graph structure and properties to match the data model of the respective graph database. Here's some information on converting NetworkX to Apache AGE GraphDB and vice versa:"
   ]
  },
  {
   "attachments": {},
   "cell_type": "markdown",
   "metadata": {},
   "source": [
    "## Connect with AGE"
   ]
  },
  {
   "cell_type": "code",
   "execution_count": 1,
   "metadata": {},
   "outputs": [],
   "source": [
    "import psycopg2\n",
    "from age.Networkx import *\n",
    "\n",
    "# set DB path and graph name\n",
    "conn = psycopg2.connect(\n",
    "    host=\"localhost\",\n",
    "    port=\"5430\",\n",
    "    dbname=\"postgresDB\",\n",
    "    user=\"postgresUser\",\n",
    "    password=\"postgresPW\")\n",
    "graphName = 'bitnine_global_inic'"
   ]
  },
  {
   "attachments": {},
   "cell_type": "markdown",
   "metadata": {},
   "source": [
    "## Networkx to AGE"
   ]
  },
  {
   "attachments": {},
   "cell_type": "markdown",
   "metadata": {},
   "source": [
    "### Create a Networkx Directed Graph with some nodes and edges"
   ]
  },
  {
   "cell_type": "code",
   "execution_count": 2,
   "metadata": {},
   "outputs": [],
   "source": [
    "# Create an empty graph\n",
    "G = nx.DiGraph()\n",
    "\n",
    "# Add some nodes\n",
    "G.add_node('user1',label='User',properties={'name':'Moontasir'})\n",
    "G.add_node('user2',label='User',properties={'name':'Sanjida'})\n",
    "\n",
    "G.add_node('movie1',label='Movie',properties={'name':'The Shawshank Redemption'})\n",
    "G.add_node('movie2',label='Movie',properties={'name':'The Godfather'})\n",
    "G.add_node('movie3',label='Movie',properties={'name':'The Dark Knight'})\n",
    "G.add_node('movie4',label='Movie',properties={'name':'Army of Thieves'})\n",
    "G.add_node('movie5',label='Movie',properties={'name':'Oceans Thirteen'})\n",
    "G.add_node('movie6',label='Movie',properties={'name':'Heat'})\n",
    "\n",
    "G.add_node('genre1',label='Genre',properties={'name':'Drama'})\n",
    "G.add_node('genre2',label='Genre',properties={'name':'Crime'})\n",
    "G.add_node('genre3',label='Genre',properties={'name':'Action'})\n",
    "\n",
    "# Add some edges\n",
    "G.add_edge('user1','movie1', label='Watched')\n",
    "G.add_edge('user1','movie2', label='Watched')\n",
    "G.add_edge('user2','movie4', label='Watched')\n",
    "G.add_edge('movie1','genre1',label='Belongs_to')\n",
    "G.add_edge('movie4','genre1',label='Belongs_to')\n",
    "G.add_edge('movie2','genre2',label='Belongs_to')\n",
    "G.add_edge('movie5','genre2',label='Belongs_to')\n",
    "G.add_edge('movie3','genre3',label='Belongs_to')\n",
    "G.add_edge('movie6','genre3',label='Belongs_to')\n"
   ]
  },
  {
   "attachments": {},
   "cell_type": "markdown",
   "metadata": {},
   "source": [
    "### Networkx Graph to AGE\n",
    "- Add all Nodes and Edges\n",
    "- Every Nodes and Edges must have `label`"
   ]
  },
  {
   "cell_type": "code",
   "execution_count": 3,
   "metadata": {},
   "outputs": [],
   "source": [
    "# Making sure working with new Graph\n",
    "age.setUpAge(conn, graphName)\n",
    "age.deleteGraph(conn, graphName)\n",
    "\n",
    "networkxToAge(conn, G, graphName=graphName, isPrint=False)"
   ]
  },
  {
   "attachments": {},
   "cell_type": "markdown",
   "metadata": {},
   "source": [
    "## AGE to Networkx"
   ]
  },
  {
   "attachments": {},
   "cell_type": "markdown",
   "metadata": {},
   "source": [
    "### Get All Nodes and Edges in Networkx Directed Graph"
   ]
  },
  {
   "cell_type": "code",
   "execution_count": 4,
   "metadata": {},
   "outputs": [
    {
     "name": "stdout",
     "output_type": "stream",
     "text": [
      "Found 11 nodes and 9 edges\n"
     ]
    }
   ],
   "source": [
    "G = ageToNetworkx(conn,graphName)"
   ]
  },
  {
   "attachments": {},
   "cell_type": "markdown",
   "metadata": {},
   "source": [
    "### Get Nodes and Edges From custom query\n",
    "Create a networkx graph with the scenario as follow\n",
    "- Add all user\n",
    "- add watched movies\n",
    "- Add relation between user and watched movies"
   ]
  },
  {
   "cell_type": "code",
   "execution_count": 5,
   "metadata": {},
   "outputs": [
    {
     "name": "stdout",
     "output_type": "stream",
     "text": [
      "DiGraph with 5 nodes and 3 edges\n"
     ]
    }
   ],
   "source": [
    "# Add All User\n",
    "G = ageToNetworkx(conn,\n",
    "                  graphName,\n",
    "                  query=\"\"\"\n",
    "                    SELECT * from cypher('%s', $$\n",
    "                        MATCH (n:User)   \n",
    "                        RETURN n\n",
    "                    $$) as (n agtype);\n",
    "                    \"\"\" % (graphName), \n",
    "                  isPrint=False)\n",
    "\n",
    "# Add Watched Movies\n",
    "G = ageToNetworkx(conn,\n",
    "                  graphName,\n",
    "                  G=G,\n",
    "                  query=\"\"\"\n",
    "                    SELECT * from cypher('%s', $$\n",
    "                        MATCH ()-[n:Watched]->()\n",
    "                        RETURN n\n",
    "                    $$) as (n agtype);\n",
    "                    \"\"\" % (graphName),\n",
    "                  isPrint=False)\n",
    "\n",
    "print(G)"
   ]
  }
 ],
 "metadata": {
  "kernelspec": {
   "display_name": "myenv",
   "language": "python",
   "name": "python3"
  },
  "language_info": {
   "codemirror_mode": {
    "name": "ipython",
    "version": 3
   },
   "file_extension": ".py",
   "mimetype": "text/x-python",
   "name": "python",
   "nbconvert_exporter": "python",
   "pygments_lexer": "ipython3",
   "version": "3.10.6"
  },
  "orig_nbformat": 4
 },
 "nbformat": 4,
 "nbformat_minor": 2
}
