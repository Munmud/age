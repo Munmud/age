{
 "cells": [
  {
   "cell_type": "code",
   "execution_count": 4,
   "metadata": {},
   "outputs": [],
   "source": [
    "import psycopg2\n",
    "from age.age_networkx import *\n",
    "\n",
    "# set DB path and graph name\n",
    "conn = psycopg2.connect(\n",
    "    host=\"localhost\",\n",
    "    port=\"5430\",\n",
    "    dbname=\"postgresDB\",\n",
    "    user=\"postgresUser\",\n",
    "    password=\"postgresPW\")\n",
    "GRAPH_NAME = 'bitnine_global_inic'"
   ]
  },
  {
   "attachments": {},
   "cell_type": "markdown",
   "metadata": {},
   "source": [
    "## Networkx to AGE"
   ]
  },
  {
   "cell_type": "code",
   "execution_count": 5,
   "metadata": {},
   "outputs": [],
   "source": [
    "import networkx as nx\n",
    "G = nx.DiGraph()\n",
    "\n",
    "# Add nodes with properties\n",
    "G.add_node('1',\n",
    "           label='People',\n",
    "           properties={'name': 'Moontasir',\n",
    "                       'weight': '50kg'})\n",
    "G.add_node('2',\n",
    "           label='People',\n",
    "           properties={'name': 'Shoaib',\n",
    "                       'weight': '60kg'})\n",
    "\n",
    "# Add edges with properties\n",
    "G.add_edge('1', '2', label='ProjectLeader',\n",
    "           properties={'firstMeet': 'Jan-21-2019'})\n",
    "networkxToAge(conn, G, GRAPH_NAME=GRAPH_NAME)"
   ]
  },
  {
   "attachments": {},
   "cell_type": "markdown",
   "metadata": {},
   "source": [
    "## AGE to Networkx"
   ]
  },
  {
   "cell_type": "code",
   "execution_count": 6,
   "metadata": {},
   "outputs": [],
   "source": [
    "# set delete and set to make sure we are working with a newly created graph\n",
    "age.setUpAge(conn, GRAPH_NAME)\n",
    "age.deleteGraph(conn, GRAPH_NAME)\n",
    "age.setUpAge(conn,GRAPH_NAME)\n",
    "\n",
    "# Adding some nodes and edges\n",
    "with conn.cursor() as cursor:\n",
    "    try:\n",
    "        cursor.execute(\n",
    "        \"\"\"\n",
    "        SELECT * from cypher(\n",
    "            'bitnine_global_inic',\n",
    "            $$\n",
    "                CREATE \n",
    "                (v:Customer {id : '1',name : 'John Smith',age : '23'}),\n",
    "                (:Customer {id : '2',name : 'Jane Doe',age : '55'}),\n",
    "                (:Customer {id : '3',name : 'Bob Johnson',age : '44'}),\n",
    "                (:Product {id : '1',name : 'iPhone X'}),\n",
    "                (:Product {id : '2',name : 'Samsung Galaxy S21'}),\n",
    "                (:Product {id : '3',name : 'iPad Pro'}),\n",
    "                (:Product {id : '4',name : 'MacBook Pro'}),\n",
    "                (:Category {id : '1',name : 'Smartphones'}),\n",
    "                (:Category {id : '2',name : 'Tablets'}),\n",
    "                (:Category {id : '3',name : 'Laptops'})\n",
    "            $$\n",
    "        ) as (v agtype);\n",
    "\n",
    "        SELECT * from cypher('bitnine_global_inic', \n",
    "            $$\n",
    "                MATCH (a:Customer {id:'1'}), (b:Product {id:'1'})\n",
    "                CREATE (a)-[e:PURCHASED {price : '100'}]->(b)\n",
    "                RETURN e\n",
    "            $$) as (e agtype);\n",
    "        \n",
    "\n",
    "            SELECT * from cypher('bitnine_global_inic', \n",
    "            $$\n",
    "                MATCH (a:Customer {id:'2'}), (b:Product {id:'1'})\n",
    "                CREATE (a)-[e:PURCHASED {price : '21'}]->(b)\n",
    "                RETURN e\n",
    "            $$) as (e agtype);\n",
    "        \n",
    "\n",
    "            SELECT * from cypher('bitnine_global_inic', \n",
    "            $$\n",
    "                MATCH (a:Customer {id:'2'}), (b:Product {id:'2'})\n",
    "                CREATE (a)-[e:PURCHASED {price : '253'}]->(b)\n",
    "                RETURN e\n",
    "            $$) as (e agtype);\n",
    "        \n",
    "\n",
    "            SELECT * from cypher('bitnine_global_inic', \n",
    "            $$\n",
    "                MATCH (a:Customer {id:'3'}), (b:Product {id:'3'})\n",
    "                CREATE (a)-[e:PURCHASED {price : '44'}]->(b)\n",
    "                RETURN e\n",
    "            $$) as (e agtype);\n",
    "        \n",
    "\n",
    "            SELECT * from cypher('bitnine_global_inic', \n",
    "            $$\n",
    "                MATCH (a:Customer {id:'3'}), (b:Product {id:'4'})\n",
    "                CREATE (a)-[e:PURCHASED {price : '69'}]->(b)\n",
    "                RETURN e\n",
    "            $$) as (e agtype);\n",
    "\n",
    "            SELECT * from cypher('bitnine_global_inic', \n",
    "            $$\n",
    "                MATCH (a:Product {id:'1'}), (b:Category {id:'1'})\n",
    "                CREATE (a)-[e:BELONGS_TO {}]->(b)\n",
    "                RETURN e\n",
    "            $$) as (e agtype);\n",
    "        \n",
    "\n",
    "            SELECT * from cypher('bitnine_global_inic', \n",
    "            $$\n",
    "                MATCH (a:Product {id:'2'}), (b:Category {id:'1'})\n",
    "                CREATE (a)-[e:BELONGS_TO {}]->(b)\n",
    "                RETURN e\n",
    "            $$) as (e agtype);\n",
    "        \n",
    "\n",
    "            SELECT * from cypher('bitnine_global_inic', \n",
    "            $$\n",
    "                MATCH (a:Product {id:'3'}), (b:Category {id:'2'})\n",
    "                CREATE (a)-[e:BELONGS_TO {}]->(b)\n",
    "                RETURN e\n",
    "            $$) as (e agtype);\n",
    "        \n",
    "\n",
    "            SELECT * from cypher('bitnine_global_inic', \n",
    "            $$\n",
    "                MATCH (a:Product {id:'4'}), (b:Category {id:'3'})\n",
    "                CREATE (a)-[e:BELONGS_TO {}]->(b)\n",
    "                RETURN e\n",
    "            $$) as (e agtype);\n",
    "        \"\"\")\n",
    "    except Exception as ex:\n",
    "        print(type(ex), ex)"
   ]
  },
  {
   "cell_type": "code",
   "execution_count": 7,
   "metadata": {},
   "outputs": [
    {
     "name": "stdout",
     "output_type": "stream",
     "text": [
      "{'label': 'Customer', 'properties': {'id': '1', 'age': '23', 'name': 'John Smith'}}\n",
      "{'label': 'Customer', 'properties': {'id': '2', 'age': '55', 'name': 'Jane Doe'}}\n",
      "{'label': 'Customer', 'properties': {'id': '3', 'age': '44', 'name': 'Bob Johnson'}}\n",
      "{'label': 'Product', 'properties': {'id': '1', 'name': 'iPhone X'}}\n",
      "{'label': 'Product', 'properties': {'id': '2', 'name': 'Samsung Galaxy S21'}}\n",
      "{'label': 'Product', 'properties': {'id': '3', 'name': 'iPad Pro'}}\n",
      "{'label': 'Product', 'properties': {'id': '4', 'name': 'MacBook Pro'}}\n",
      "{'label': 'Category', 'properties': {'id': '1', 'name': 'Smartphones'}}\n",
      "{'label': 'Category', 'properties': {'id': '2', 'name': 'Tablets'}}\n",
      "{'label': 'Category', 'properties': {'id': '3', 'name': 'Laptops'}}\n"
     ]
    }
   ],
   "source": [
    "\"\"\"\n",
    "Create a networkx directed graph from `bitnine_global_inic` graph\n",
    "    - Add all nodes\n",
    "\"\"\"\n",
    "G = ageToNetworkx(connection=conn,\n",
    "                  GRAPH_NAME=GRAPH_NAME,\n",
    "                  node_filters=[('', {})]\n",
    "                  )\n",
    "for x in G.nodes:\n",
    "    print(G.nodes[x])\n",
    "\n",
    "for u,v in G.edges:\n",
    "    print(u,v, G.edges[u, v]['label'], G.edges[u, v]['properties'])"
   ]
  },
  {
   "cell_type": "code",
   "execution_count": 8,
   "metadata": {},
   "outputs": [
    {
     "name": "stdout",
     "output_type": "stream",
     "text": [
      "{'label': 'Customer', 'properties': {'id': '1', 'age': '23', 'name': 'John Smith'}}\n",
      "{'label': 'Customer', 'properties': {'id': '2', 'age': '55', 'name': 'Jane Doe'}}\n",
      "{'label': 'Customer', 'properties': {'id': '3', 'age': '44', 'name': 'Bob Johnson'}}\n",
      "{'label': 'Product', 'properties': {'id': '1', 'name': 'iPhone X'}}\n",
      "{'label': 'Product', 'properties': {'id': '2', 'name': 'Samsung Galaxy S21'}}\n",
      "{'label': 'Product', 'properties': {'id': '3', 'name': 'iPad Pro'}}\n",
      "{'label': 'Product', 'properties': {'id': '4', 'name': 'MacBook Pro'}}\n",
      "{'label': 'Category', 'properties': {'id': '1', 'name': 'Smartphones'}}\n",
      "{'label': 'Category', 'properties': {'id': '2', 'name': 'Tablets'}}\n",
      "{'label': 'Category', 'properties': {'id': '3', 'name': 'Laptops'}}\n",
      "844424930131969 1125899906842625 PURCHASED {'price': '100'}\n",
      "844424930131970 1125899906842625 PURCHASED {'price': '21'}\n",
      "844424930131970 1125899906842626 PURCHASED {'price': '253'}\n",
      "844424930131971 1125899906842627 PURCHASED {'price': '44'}\n",
      "844424930131971 1125899906842628 PURCHASED {'price': '69'}\n",
      "1125899906842625 1407374883553281 BELONGS_TO {}\n",
      "1125899906842626 1407374883553281 BELONGS_TO {}\n",
      "1125899906842627 1407374883553282 BELONGS_TO {}\n",
      "1125899906842628 1407374883553283 BELONGS_TO {}\n"
     ]
    }
   ],
   "source": [
    "\"\"\"\n",
    "Create a networkx directed graph from `bitnine_global_inic` graph\n",
    "    - Add all nodes and edges\n",
    "\"\"\"\n",
    "G = ageToNetworkx(connection=conn,\n",
    "                  GRAPH_NAME=GRAPH_NAME,\n",
    "                  node_filters=[('', {})],\n",
    "                  edge_filters=[('', {})]\n",
    "                  )\n",
    "for x in G.nodes:\n",
    "    print(G.nodes[x])\n",
    "\n",
    "for u,v in G.edges:\n",
    "    print(u,v, G.edges[u, v]['label'], G.edges[u, v]['properties'])"
   ]
  },
  {
   "cell_type": "code",
   "execution_count": 10,
   "metadata": {},
   "outputs": [
    {
     "name": "stdout",
     "output_type": "stream",
     "text": [
      "{'label': 'Customer', 'properties': {'id': '1', 'age': '23', 'name': 'John Smith'}}\n",
      "{'label': 'Customer', 'properties': {'id': '2', 'age': '55', 'name': 'Jane Doe'}}\n",
      "{'label': 'Customer', 'properties': {'id': '3', 'age': '44', 'name': 'Bob Johnson'}}\n",
      "{'label': 'Product', 'properties': {'id': '1', 'name': 'iPhone X'}}\n",
      "{'label': 'Category', 'properties': {'id': '1', 'name': 'Smartphones'}}\n"
     ]
    }
   ],
   "source": [
    "\"\"\"\n",
    "Create a networkx directed graph from `bitnine_global_inic` graph\n",
    "    - Add all nodes with node-label `Customer`\n",
    "    - Add node with node-label `Product` which has id : 1\n",
    "    - Add all nodes which has name : 'Smartphones'\n",
    "\n",
    "\"\"\"\n",
    "G = ageToNetworkx(connection=conn,\n",
    "                  GRAPH_NAME=GRAPH_NAME,\n",
    "                  node_filters=[\n",
    "                      ('Customer', {}),\n",
    "                      ('Product', {'id': 1}),\n",
    "                      ('', {'name': 'Smartphones'}), \n",
    "                  ],\n",
    "                  )\n",
    "for x in G.nodes:\n",
    "    print(G.nodes[x])\n",
    "\n",
    "for u,v in G.edges:\n",
    "    print(u,v, G.edges[u, v]['label'], G.edges[u, v]['properties'])"
   ]
  },
  {
   "cell_type": "code",
   "execution_count": 11,
   "metadata": {},
   "outputs": [
    {
     "name": "stdout",
     "output_type": "stream",
     "text": [
      "{'label': 'Customer', 'properties': {'id': '1', 'age': '23', 'name': 'John Smith'}}\n",
      "{'label': 'Product', 'properties': {'id': '1', 'name': 'iPhone X'}}\n",
      "{'label': 'Customer', 'properties': {'id': '2', 'age': '55', 'name': 'Jane Doe'}}\n",
      "{'label': 'Product', 'properties': {'id': '2', 'name': 'Samsung Galaxy S21'}}\n",
      "{'label': 'Customer', 'properties': {'id': '3', 'age': '44', 'name': 'Bob Johnson'}}\n",
      "{'label': 'Product', 'properties': {'id': '3', 'name': 'iPad Pro'}}\n",
      "{'label': 'Product', 'properties': {'id': '4', 'name': 'MacBook Pro'}}\n",
      "844424930131969 1125899906842625 PURCHASED {'price': '100'}\n",
      "844424930131970 1125899906842625 PURCHASED {'price': '21'}\n",
      "844424930131970 1125899906842626 PURCHASED {'price': '253'}\n",
      "844424930131971 1125899906842627 PURCHASED {'price': '44'}\n",
      "844424930131971 1125899906842628 PURCHASED {'price': '69'}\n"
     ]
    }
   ],
   "source": [
    "\"\"\"\n",
    "Create a networkx directed graph from `bitnine_global_inic` graph\n",
    "    - Adding all edges with label `PURCHASED`. (Add all nodes with these edges)\n",
    "\"\"\"\n",
    "G = ageToNetworkx(connection=conn,\n",
    "                  GRAPH_NAME=GRAPH_NAME,\n",
    "                  edge_filters=[\n",
    "                      ('PURCHASED', {})\n",
    "                  ],\n",
    "                  add_new_node_from_edge_filters=True\n",
    "                  )\n",
    "for x in G.nodes:\n",
    "    print(G.nodes[x])\n",
    "\n",
    "for u,v in G.edges:\n",
    "    print(u,v, G.edges[u, v]['label'], G.edges[u, v]['properties'])"
   ]
  },
  {
   "cell_type": "code",
   "execution_count": 12,
   "metadata": {},
   "outputs": [
    {
     "name": "stdout",
     "output_type": "stream",
     "text": [
      "{'label': 'Customer', 'properties': {'id': '2', 'age': '55', 'name': 'Jane Doe'}}\n",
      "{'label': 'Product', 'properties': {'id': '2', 'name': 'Samsung Galaxy S21'}}\n",
      "844424930131970 1125899906842626 PURCHASED {'price': '253'}\n"
     ]
    }
   ],
   "source": [
    "\"\"\"\n",
    "Create a networkx directed graph from `bitnine_global_inic` graph\n",
    "    - Add all nodes with name 'Jane Doe' \n",
    "    - Add all nodes with name 'Samsung Galaxy S21' with label 'Product'\n",
    "    - Adding all edges with within the above node with label `PURCHASED`. (Don't add new nodes)\n",
    "\"\"\"\n",
    "G = ageToNetworkx(connection=conn,\n",
    "                  GRAPH_NAME=GRAPH_NAME,\n",
    "                  node_filters=[\n",
    "                      ('', {'name': 'Jane Doe'}),\n",
    "                      ('Product', {'name': 'Samsung Galaxy S21'}),\n",
    "                  ],\n",
    "                  edge_filters=[\n",
    "                      ('PURCHASED', {})\n",
    "                  ],\n",
    "                  )\n",
    "for x in G.nodes:\n",
    "    print(G.nodes[x])\n",
    "\n",
    "for u,v in G.edges:\n",
    "    print(u,v, G.edges[u, v]['label'], G.edges[u, v]['properties'])"
   ]
  },
  {
   "cell_type": "code",
   "execution_count": 13,
   "metadata": {},
   "outputs": [
    {
     "name": "stdout",
     "output_type": "stream",
     "text": [
      "{'label': 'Customer', 'properties': {'id': '2', 'name': 'Jane Doe'}}\n",
      "{'label': 'Product', 'properties': {'id': '2', 'name': 'Samsung Galaxy S21'}}\n",
      "{'label': 'Category', 'properties': {'id': '1', 'name': 'Smartphones'}}\n",
      "{'label': 'Category', 'properties': {'id': '2', 'name': 'Tablets'}}\n",
      "{'label': 'Category', 'properties': {'id': '3', 'name': 'Laptops'}}\n"
     ]
    }
   ],
   "source": [
    "\"\"\"\n",
    "Given a networkx Directed graph with some nodes and edges.\n",
    "    - Add all new nodes with label 'Category' from the AGE graph to the Given Graph\n",
    "\"\"\"\n",
    "# initial Graph\n",
    "G = nx.DiGraph()\n",
    "G.add_node(\n",
    "    844424930131970,\n",
    "    label='Customer',\n",
    "    properties={'id': '2', 'name': 'Jane Doe'})\n",
    "G.add_node(\n",
    "    1125899906842626,\n",
    "    label='Product',\n",
    "    properties={'id': '2', 'name': 'Samsung Galaxy S21'})\n",
    "\n",
    "G = ageToNetworkx(connection=conn,\n",
    "                  GRAPH_NAME=GRAPH_NAME,\n",
    "                  node_filters=[\n",
    "                      ('Category', {})\n",
    "                  ],\n",
    "                  G=G\n",
    "                  )\n",
    "for x in G.nodes:\n",
    "    print(G.nodes[x])\n",
    "\n",
    "for u,v in G.edges:\n",
    "    print(u,v, G.edges[u, v]['label'], G.edges[u, v]['properties'])"
   ]
  },
  {
   "cell_type": "code",
   "execution_count": 14,
   "metadata": {},
   "outputs": [
    {
     "name": "stdout",
     "output_type": "stream",
     "text": [
      "{'label': 'Customer', 'properties': {'id': '2', 'age': '55', 'name': 'Jane Doe'}}\n",
      "{'label': 'Customer', 'properties': {'id': '3', 'age': '44', 'name': 'Bob Johnson'}}\n",
      "{'label': 'Product', 'properties': {'id': '1', 'name': 'iPhone X'}}\n",
      "{'label': 'Product', 'properties': {'id': '2', 'name': 'Samsung Galaxy S21'}}\n",
      "{'label': 'Product', 'properties': {'id': '3', 'name': 'iPad Pro'}}\n",
      "{'label': 'Product', 'properties': {'id': '4', 'name': 'MacBook Pro'}}\n",
      "844424930131970 1125899906842626 PURCHASED {'price': '253'}\n"
     ]
    }
   ],
   "source": [
    "\"\"\"\n",
    "Create a networkx directed graph from `bitnine_global_inic` graph\n",
    "    - All all nodes with label Product \n",
    "    - Add all nodes with label Customer with age >=30\n",
    "    - Add all edges with label PURCHASED with price>100 to the existing filter nodes\n",
    "\"\"\"\n",
    "G = ageToNetworkx(connection=conn,\n",
    "                  GRAPH_NAME=GRAPH_NAME,\n",
    "                  node_filters=[\n",
    "                      ('Product', {})\n",
    "                  ],\n",
    "                  node_query=\"\"\"\n",
    "                        MATCH (V:Customer)\n",
    "                        WHERE toInteger(V.age)>=30\n",
    "                        RETURN V\n",
    "                  \"\"\",\n",
    "                  edge_query=\"\"\"\n",
    "                    MATCH v=(N)-[R:PURCHASED]-(N2)\n",
    "                    WHERE toInteger(R.price)>=100\n",
    "                    RETURN v\n",
    "                  \"\"\"\n",
    "                  )\n",
    "for x in G.nodes:\n",
    "    print(G.nodes[x])\n",
    "\n",
    "for u,v in G.edges:\n",
    "    print(u,v, G.edges[u, v]['label'], G.edges[u, v]['properties'])"
   ]
  }
 ],
 "metadata": {
  "kernelspec": {
   "display_name": "myenv",
   "language": "python",
   "name": "python3"
  },
  "language_info": {
   "codemirror_mode": {
    "name": "ipython",
    "version": 3
   },
   "file_extension": ".py",
   "mimetype": "text/x-python",
   "name": "python",
   "nbconvert_exporter": "python",
   "pygments_lexer": "ipython3",
   "version": "3.10.6"
  },
  "orig_nbformat": 4
 },
 "nbformat": 4,
 "nbformat_minor": 2
}
