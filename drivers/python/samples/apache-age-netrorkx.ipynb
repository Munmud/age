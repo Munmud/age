{
 "cells": [
  {
   "cell_type": "code",
   "execution_count": 1,
   "metadata": {},
   "outputs": [],
   "source": [
    "import psycopg2\n",
    "from age.age_networkx import *\n",
    "import random\n",
    "import time\n",
    "\n",
    "# set DB path and graph name\n",
    "conn = psycopg2.connect(\n",
    "    host=\"localhost\",\n",
    "    port=\"5430\",\n",
    "    dbname=\"postgresDB\",\n",
    "    user=\"postgresUser\",\n",
    "    password=\"postgresPW\")\n",
    "GRAPH_NAME = 'bitnine_global_inic'"
   ]
  },
  {
   "attachments": {},
   "cell_type": "markdown",
   "metadata": {},
   "source": [
    "## Networkx to AGE"
   ]
  },
  {
   "attachments": {},
   "cell_type": "markdown",
   "metadata": {},
   "source": [
    "### Creating a Random Networkx Directed Graph"
   ]
  },
  {
   "cell_type": "code",
   "execution_count": 2,
   "metadata": {},
   "outputs": [
    {
     "name": "stdout",
     "output_type": "stream",
     "text": [
      "DiGraph with 4000 nodes and 8000 edges\n"
     ]
    }
   ],
   "source": [
    "number_of_nodes = 4000\n",
    "number_of_edges = 8000\n",
    "\n",
    "# Create an empty graph\n",
    "G = nx.DiGraph()\n",
    "\n",
    "for i in range(number_of_nodes):\n",
    "    G.add_node(i,\n",
    "               label='People',\n",
    "               properties={'id': i, 'weight': i*2+20})\n",
    "\n",
    "for i in range(number_of_edges):\n",
    "    a = 0\n",
    "    b = 0\n",
    "    while(a==b):\n",
    "        a = random_number = random.randint(0, number_of_nodes-1)\n",
    "        b = random_number = random.randint(0, number_of_nodes-1)\n",
    "    \n",
    "    G.add_edge(a, b, label='Connection',\n",
    "        properties={'firstMeet': 'Jan-21-2019', 'start_id' : a, 'end_id' : b})\n",
    "print(G)"
   ]
  },
  {
   "attachments": {},
   "cell_type": "markdown",
   "metadata": {},
   "source": [
    "### networkx to AGE in a newly created graph"
   ]
  },
  {
   "cell_type": "code",
   "execution_count": 3,
   "metadata": {},
   "outputs": [
    {
     "name": "stdout",
     "output_type": "stream",
     "text": [
      "500  nodes created\n",
      "1000  nodes created\n",
      "1500  nodes created\n",
      "2000  nodes created\n",
      "2500  nodes created\n",
      "3000  nodes created\n",
      "3500  nodes created\n",
      "4000  nodes created\n",
      "ADDED : 1000  Edges\n",
      "ADDED : 2000  Edges\n",
      "ADDED : 3000  Edges\n",
      "ADDED : 4000  Edges\n",
      "ADDED : 5000  Edges\n",
      "ADDED : 6000  Edges\n",
      "ADDED : 7000  Edges\n",
      "ADDED : 8000  Edges\n",
      "7.994979198003421s\n"
     ]
    }
   ],
   "source": [
    "age.setUpAge(conn, GRAPH_NAME)\n",
    "age.deleteGraph(conn, GRAPH_NAME)\n",
    "age.setUpAge(conn, GRAPH_NAME)\n",
    "\n",
    "start_time = time.perf_counter()\n",
    "\n",
    "networkxToAge(conn, G, GRAPH_NAME=GRAPH_NAME)\n",
    "\n",
    "now_time = time.perf_counter()\n",
    "elapsed_time_ms = (now_time - start_time)\n",
    "print(f'{elapsed_time_ms}s')"
   ]
  },
  {
   "attachments": {},
   "cell_type": "markdown",
   "metadata": {},
   "source": [
    "## AGE to Networkx"
   ]
  },
  {
   "cell_type": "code",
   "execution_count": 4,
   "metadata": {},
   "outputs": [
    {
     "name": "stdout",
     "output_type": "stream",
     "text": [
      "DiGraph with 4000 nodes and 8000 edges\n",
      "16.543609005995677s\n"
     ]
    }
   ],
   "source": [
    "start_time = time.perf_counter()\n",
    "\n",
    "G = ageToNetworkx(conn,GRAPH_NAME)\n",
    "print (G)\n",
    "\n",
    "now_time = time.perf_counter()\n",
    "elapsed_time_ms = (now_time - start_time)\n",
    "print(f'{elapsed_time_ms}s')"
   ]
  }
 ],
 "metadata": {
  "kernelspec": {
   "display_name": "myenv",
   "language": "python",
   "name": "python3"
  },
  "language_info": {
   "codemirror_mode": {
    "name": "ipython",
    "version": 3
   },
   "file_extension": ".py",
   "mimetype": "text/x-python",
   "name": "python",
   "nbconvert_exporter": "python",
   "pygments_lexer": "ipython3",
   "version": "3.10.6"
  },
  "orig_nbformat": 4
 },
 "nbformat": 4,
 "nbformat_minor": 2
}
